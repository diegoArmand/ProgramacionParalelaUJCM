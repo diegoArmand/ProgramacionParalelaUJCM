{
 "cells": [
  {
   "cell_type": "code",
   "execution_count": 1,
   "metadata": {},
   "outputs": [
    {
     "name": "stdout",
     "output_type": "stream",
     "text": [
      "Thread-6 dice hola en el tiempo: 2021-09-09 20:08:00.691828\n",
      "Thread-7 dice hola en el tiempo: 2021-09-09 20:08:00.695825\n",
      "Wall time: 9.96 ms\n"
     ]
    }
   ],
   "source": [
    "%%time\n",
    "import threading\n",
    "import datetime\n",
    "class ThreadClass(threading.Thread):\n",
    "    def run(self):\n",
    "        now = datetime.datetime.now()\n",
    "        print(\"%s dice hola en el tiempo: %s\" %\n",
    "        (self.getName(), now))\n",
    "for i in range(2):\n",
    "    t = ThreadClass()\n",
    "    t.start()\n"
   ]
  },
  {
   "cell_type": "code",
   "execution_count": 2,
   "metadata": {},
   "outputs": [
    {
     "name": "stdout",
     "output_type": "stream",
     "text": [
      "HTTPSConnectionPool(host='www.python.org', port=443)\n",
      "HTTPSConnectionPool(host='www.yahoo.com', port=443)\n",
      "HTTPSConnectionPool(host='www.google.com', port=443)\n",
      "HTTPSConnectionPool(host='www.ujcm.edu.pe', port=443)\n",
      "Wall time: 138 ms\n"
     ]
    }
   ],
   "source": [
    "%%time\n",
    "from multiprocessing.dummy import Pool as ThreadPool\n",
    "import urllib3\n",
    "pool = ThreadPool(4)\n",
    "urls = [\n",
    "'https://www.python.org', 'https://www.yahoo.com',\n",
    "'https://www.google.com', 'https://www.ujcm.edu.pe'\n",
    "]\n",
    "results = pool.map(urllib3.connection_from_url, urls)\n",
    "for re in results:\n",
    "    print(re)\n",
    "pool.close()\n",
    "pool.join()\n"
   ]
  },
  {
   "cell_type": "code",
   "execution_count": 3,
   "metadata": {},
   "outputs": [
    {
     "name": "stdout",
     "output_type": "stream",
     "text": [
      "Wall time: 37.5 ms\n"
     ]
    }
   ],
   "source": [
    "%%time\n",
    "import multiprocessing\n",
    "def worker(num):\n",
    "    \"\"\"thread worker function\"\"\"\n",
    "    print('Worker:', num )\n",
    "    return\n",
    "if __name__ == '__main__':\n",
    "    jobs = []\n",
    "    for i in range(5):\n",
    "        p = multiprocessing.Process(target=worker, args=(i,))\n",
    "        jobs.append(p)\n",
    "        p.start()"
   ]
  },
  {
   "cell_type": "code",
   "execution_count": 4,
   "metadata": {},
   "outputs": [
    {
     "name": "stdout",
     "output_type": "stream",
     "text": [
      "Wall time: 21 ms\n"
     ]
    }
   ],
   "source": [
    "%%time\n",
    "import multiprocessing\n",
    "import time\n",
    "def worker():\n",
    "    name = multiprocessing.current_process().name\n",
    "    print (name, 'Starting' )\n",
    "    time.sleep(2)\n",
    "    print (name, 'Exiting' )\n",
    "def my_service():\n",
    "    name = multiprocessing.current_process().name\n",
    "    print (name, 'Starting' )\n",
    "    time.sleep(3)\n",
    "    print (name, 'Exiting' )\n",
    "if __name__ == '__main__':\n",
    "    service = multiprocessing.Process(name='my_service',target=my_service)\n",
    "    worker_1 = multiprocessing.Process(name='worker 1',target=worker)\n",
    "    worker_2 = multiprocessing.Process(target=worker) # default name\n",
    "    worker_1.start()\n",
    "    worker_2.start()\n",
    "    service.start()"
   ]
  },
  {
   "cell_type": "code",
   "execution_count": 5,
   "metadata": {},
   "outputs": [
    {
     "name": "stdout",
     "output_type": "stream",
     "text": [
      "Starting 3 threads...\n",
      "Hello, I am the thread Thread-15\n",
      "Hello, I am the thread Thread-16\n",
      "Hello, I am the thread Thread-17\n",
      "Wall time: 14.1 ms\n"
     ]
    }
   ],
   "source": [
    "%%time\n",
    "import threading\n",
    "# how many threads we want to start\n",
    "THREADS_COUNT = 3\n",
    "class Threaded_worker(threading.Thread):\n",
    "    def __init__(self):\n",
    "        threading.Thread.__init__(self)\n",
    "    def run(self):\n",
    "        threadName = threading.currentThread().getName()\n",
    "        print(\"Hello, I am the thread %s\" % threadName)\n",
    "print('Starting %d threads...' % THREADS_COUNT)\n",
    "for i in range(THREADS_COUNT):\n",
    "    td = Threaded_worker()\n",
    "    td.start()"
   ]
  },
  {
   "cell_type": "code",
   "execution_count": 6,
   "metadata": {},
   "outputs": [
    {
     "name": "stdout",
     "output_type": "stream",
     "text": [
      "Starting 3 processes...\n",
      "Wall time: 12.3 ms\n"
     ]
    }
   ],
   "source": [
    "%%time\n",
    "import multiprocessing\n",
    "import os\n",
    "# how many processes we want to start\n",
    "WORKER_NUMBER = 3\n",
    "def worker():\n",
    "    PID = os.getpid()\n",
    "    print (\"Hello, I am the process with PID %d\" % PID)\n",
    "print ('Starting %d processes...' % WORKER_NUMBER)\n",
    "jobs = []\n",
    "for i in range(WORKER_NUMBER):\n",
    "    p = multiprocessing.Process(target=worker, args=())\n",
    "    jobs.append(p)\n",
    "    p.start()"
   ]
  },
  {
   "cell_type": "code",
   "execution_count": 7,
   "metadata": {},
   "outputs": [
    {
     "name": "stdout",
     "output_type": "stream",
     "text": [
      "Wall time: 155 ms\n"
     ]
    }
   ],
   "source": [
    "%%time\n",
    "import threading\n",
    "# how many threads we want to start\n",
    "THREADS_COUNT = 2\n",
    "class Threaded_worker(threading.Thread):\n",
    "    def __init__(self):\n",
    "        threading.Thread.__init__(self)\n",
    "    def run(self):\n",
    "        n = 250000000\n",
    "        while n > 0:\n",
    "            n -= 1\n",
    "for i in range(THREADS_COUNT):\n",
    "    td = Threaded_worker()\n",
    "    td.start()\n"
   ]
  },
  {
   "cell_type": "code",
   "execution_count": 8,
   "metadata": {},
   "outputs": [
    {
     "name": "stdout",
     "output_type": "stream",
     "text": [
      "Wall time: 215 ms\n"
     ]
    }
   ],
   "source": [
    "%%time\n",
    "import threading\n",
    "# how many threads we want to start\n",
    "THREADS_COUNT = 2\n",
    "class Threaded_worker(threading.Thread):\n",
    "    def __init__(self):\n",
    "        threading.Thread.__init__(self)\n",
    "    def run(self):\n",
    "        n = 500000000\n",
    "        while n > 0:\n",
    "            n -= 1\n",
    "for i in range(THREADS_COUNT):\n",
    "    td = Threaded_worker()\n",
    "    td.start()"
   ]
  },
  {
   "cell_type": "code",
   "execution_count": 11,
   "metadata": {},
   "outputs": [
    {
     "name": "stdout",
     "output_type": "stream",
     "text": [
      "Wall time: 11 ms\n"
     ]
    }
   ],
   "source": [
    "%%time\n",
    "import multiprocessing\n",
    "WORKER_NUMBER = 2\n",
    "def worker():\n",
    "    n = 250000000\n",
    "    while n > 0:\n",
    "        n -= 1\n",
    "jobs = []\n",
    "for i in range(WORKER_NUMBER):\n",
    "    p = multiprocessing.Process(target=worker, args=())\n",
    "    jobs.append(p)\n",
    "    p.start()\n"
   ]
  },
  {
   "cell_type": "code",
   "execution_count": null,
   "metadata": {},
   "outputs": [],
   "source": []
  },
  {
   "cell_type": "code",
   "execution_count": null,
   "metadata": {},
   "outputs": [],
   "source": []
  }
 ],
 "metadata": {
  "kernelspec": {
   "display_name": "Python 3",
   "language": "python",
   "name": "python3"
  },
  "language_info": {
   "codemirror_mode": {
    "name": "ipython",
    "version": 3
   },
   "file_extension": ".py",
   "mimetype": "text/x-python",
   "name": "python",
   "nbconvert_exporter": "python",
   "pygments_lexer": "ipython3",
   "version": "3.8.3"
  }
 },
 "nbformat": 4,
 "nbformat_minor": 4
}
